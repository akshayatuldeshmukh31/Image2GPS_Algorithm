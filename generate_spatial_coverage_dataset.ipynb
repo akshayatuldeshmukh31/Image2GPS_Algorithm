{
 "cells": [
  {
   "cell_type": "code",
   "execution_count": 9,
   "metadata": {
    "collapsed": true
   },
   "outputs": [],
   "source": [
    "import glob, os"
   ]
  },
  {
   "cell_type": "code",
   "execution_count": 10,
   "metadata": {},
   "outputs": [],
   "source": [
    "fp = open(\"../GSV_Downloaded_spatialdata_v2.txt\", \"w\")\n",
    "\n",
    "for filename in glob.glob(os.path.join(\"../GSV_Downloaded_Resized\", '*.jpg')):\n",
    "    lat,lng = filename.split(\"/\")[-1].split(\"_\")[:2]\n",
    "    lat = float(lat)\n",
    "    lng = float(lng)\n",
    "    fp.write(filename + \"\\t\" + str(lat - 0.001) + \"\\t\" + str(lng - 0.001) + \"\\t\" + str(lat + 0.001) + \"\\t\" + str(lng + 0.001) + \"\\t\" + str(lat) + \"\\t\" + str(lng) + \"\\n\")\n",
    "\n",
    "for filename in glob.glob(os.path.join(\"../GSV_Downloaded_Resized_Test_Images\", '*.jpg')):\n",
    "    lat,lng = filename.split(\"/\")[-1].split(\"_\")[:2]\n",
    "    lat = float(lat)\n",
    "    lng = float(lng)\n",
    "    fp.write(filename + \"\\t\" + str(lat - 0.001) + \"\\t\" + str(lng - 0.001) + \"\\t\" + str(lat + 0.001) + \"\\t\" + str(lng + 0.001) + \"\\t\" + str(lat) + \"\\t\" + str(lng) + \"\\n\")\n",
    "\n",
    "fp.close()"
   ]
  },
  {
   "cell_type": "code",
   "execution_count": null,
   "metadata": {
    "collapsed": true
   },
   "outputs": [],
   "source": []
  }
 ],
 "metadata": {
  "kernelspec": {
   "display_name": "Python 2",
   "language": "python",
   "name": "python2"
  },
  "language_info": {
   "codemirror_mode": {
    "name": "ipython",
    "version": 2
   },
   "file_extension": ".py",
   "mimetype": "text/x-python",
   "name": "python",
   "nbconvert_exporter": "python",
   "pygments_lexer": "ipython2",
   "version": "2.7.6"
  }
 },
 "nbformat": 4,
 "nbformat_minor": 2
}
