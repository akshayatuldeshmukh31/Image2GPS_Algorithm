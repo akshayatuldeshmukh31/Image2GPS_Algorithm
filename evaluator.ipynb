{
 "cells": [
  {
   "cell_type": "code",
   "execution_count": 1,
   "metadata": {
    "collapsed": true
   },
   "outputs": [],
   "source": [
    "import os,sys\n",
    "import numpy as np\n",
    "import matplotlib.pyplot as plt"
   ]
  },
  {
   "cell_type": "code",
   "execution_count": 55,
   "metadata": {
    "collapsed": true
   },
   "outputs": [],
   "source": [
    "# Old algorithm adjusted for comparison with new algorithm\n",
    "\n",
    "actual_coords = dict()\n",
    "distances = list()\n",
    "\n",
    "with open(\"predictions_downloaded_dataset.txt\",\"r\") as fp:\n",
    "\tfor line in fp:\n",
    "\t\tls = line.strip().split()\n",
    "\t\tactual_lat, actual_lng = map(float, ls[0].split(\"_\")[:2])\n",
    "\t\tdistances.append(pow(actual_lat - round(float(ls[1]),3), 2) + pow(actual_lng - round(float(ls[2]),3), 2))"
   ]
  },
  {
   "cell_type": "code",
   "execution_count": 56,
   "metadata": {},
   "outputs": [],
   "source": [
    "distances_with_coverage_v1 = list()\n",
    "\n",
    "with open(\"predictions_downloaded_dataset.txt\",\"r\") as fp:\n",
    "    for line in fp:\n",
    "        ls = line.strip().split()\n",
    "        actual_lat, actual_lng = map(float, ls[0].split(\"_\")[:2])\n",
    "        minlat = float(ls[1]) - 0.001\n",
    "        minlng = float(ls[2]) - 0.001\n",
    "        maxlat = float(ls[1]) + 0.001\n",
    "        maxlng = float(ls[2]) + 0.001\n",
    "        \n",
    "        if minlat<=actual_lat and actual_lat<=maxlat and minlng<=actual_lng and actual_lng<=maxlng:\n",
    "            distances_with_coverage_v1.append(1)\n",
    "        else:\n",
    "            distances_with_coverage_v1.append(0)"
   ]
  },
  {
   "cell_type": "code",
   "execution_count": 57,
   "metadata": {},
   "outputs": [
    {
     "name": "stdout",
     "output_type": "stream",
     "text": [
      "Mean -  34.9757829385\n",
      "Std -  60.1763162352\n",
      "Min -  0.0\n",
      "Max -  206.190752\n",
      "% within 1 Std -  86.7692307692\n"
     ]
    }
   ],
   "source": [
    "distances = np.array(distances)\n",
    "\n",
    "print \"Mean - \", distances.mean()\n",
    "print \"Std - \", distances.std()\n",
    "print \"Min - \", distances.min()\n",
    "print \"Max - \", distances.max()\n",
    "\n",
    "low_lim = distances.mean() - distances.std()\n",
    "high_lim = distances.mean() + distances.std()\n",
    "\n",
    "count = 0\n",
    "for ele in distances:\n",
    "\tif low_lim <= ele and ele <= high_lim:\n",
    "\t\tcount += 1\n",
    "\n",
    "print \"% within 1 Std - \", (float(count)/float(len(distances)))*100.0"
   ]
  },
  {
   "cell_type": "code",
   "execution_count": 58,
   "metadata": {},
   "outputs": [
    {
     "data": {
      "image/png": "[encoded data removed]",
      "text/plain": [
       "<matplotlib.figure.Figure at 0x7f2ab9544150>"
      ]
     },
     "metadata": {},
     "output_type": "display_data"
    }
   ],
   "source": [
    "plt.hist(distances, normed=False, bins = 100)\n",
    "plt.ylabel('Number of instances')\n",
    "plt.show()"
   ]
  },
  {
   "cell_type": "code",
   "execution_count": 59,
   "metadata": {},
   "outputs": [
    {
     "name": "stdout",
     "output_type": "stream",
     "text": [
      "13\n",
      "Percentage of points wihtin 100m of actual location - 2.0 %\n"
     ]
    }
   ],
   "source": [
    "distances_with_coverage_v1 = np.array(distances_with_coverage_v1)\n",
    "\n",
    "print distances_with_coverage_v1.sum()\n",
    "print \"Percentage of points wihtin 100m of actual location - \" + str(float(distances_with_coverage_v1.sum())/float(distances_with_coverage_v1.shape[0]) * 100) + \" %\" "
   ]
  },
  {
   "cell_type": "code",
   "execution_count": 51,
   "metadata": {},
   "outputs": [],
   "source": [
    "# New algorithm\n",
    "\n",
    "distances_within_coverage = list()\n",
    "raw_distances_within_coverage = list()\n",
    "\n",
    "with open(\"predictions_downloaded_dataset_v2.txt\",\"r\") as fp:\n",
    "    for line in fp:\n",
    "        ls = line.strip().split()\n",
    "        actual_lat, actual_lng = map(float, ls[0].split(\"_\")[:2])\n",
    "        minlat = float(ls[1])\n",
    "        minlng = float(ls[2])\n",
    "        maxlat = float(ls[3])\n",
    "        maxlng = float(ls[4])\n",
    "        \n",
    "        mean_lat = (minlat + maxlat)/2.0\n",
    "        mean_lng = (minlng + maxlng)/2.0\n",
    "        \n",
    "        if minlat<=actual_lat and actual_lat<=maxlat and minlng<=actual_lng and actual_lng<=maxlng:\n",
    "            distances_within_coverage.append(1)\n",
    "        else:\n",
    "            distances_within_coverage.append(0)\n",
    "            \n",
    "        raw_distances_within_coverage.append(pow(actual_lat - round(float(mean_lat),3), 2) + pow(actual_lng - round(float(mean_lng),3), 2))"
   ]
  },
  {
   "cell_type": "code",
   "execution_count": 52,
   "metadata": {},
   "outputs": [
    {
     "name": "stdout",
     "output_type": "stream",
     "text": [
      "15\n",
      "Percentage of points wihtin 100m of actual location - 2.30769230769 %\n"
     ]
    }
   ],
   "source": [
    "distances_within_coverage = np.array(distances_within_coverage)\n",
    "\n",
    "print distances_within_coverage.sum()\n",
    "print \"Percentage of points wihtin 100m of actual location - \" + str(float(distances_within_coverage.sum())/float(distances_within_coverage.shape[0]) * 100) + \" %\" "
   ]
  },
  {
   "cell_type": "code",
   "execution_count": 53,
   "metadata": {},
   "outputs": [
    {
     "name": "stdout",
     "output_type": "stream",
     "text": [
      "Mean -  35.6227118831\n",
      "Std -  60.4244784981\n",
      "Min -  0.0\n",
      "Max -  206.190752\n",
      "% within 1 Std -  86.6153846154\n"
     ]
    }
   ],
   "source": [
    "raw_distances_within_coverage = np.array(raw_distances_within_coverage)\n",
    "\n",
    "print \"Mean - \", raw_distances_within_coverage.mean()\n",
    "print \"Std - \", raw_distances_within_coverage.std()\n",
    "print \"Min - \", raw_distances_within_coverage.min()\n",
    "print \"Max - \", raw_distances_within_coverage.max()\n",
    "\n",
    "low_lim = raw_distances_within_coverage.mean() - raw_distances_within_coverage.std()\n",
    "high_lim = raw_distances_within_coverage.mean() + raw_distances_within_coverage.std()\n",
    "\n",
    "count = 0\n",
    "for ele in raw_distances_within_coverage:\n",
    "    if low_lim <= ele and ele <= high_lim:\n",
    "        count += 1\n",
    "\n",
    "print \"% within 1 Std - \", (float(count)/float(len(raw_distances_within_coverage)))*100.0"
   ]
  },
  {
   "cell_type": "code",
   "execution_count": 54,
   "metadata": {},
   "outputs": [
    {
     "data": {
      "image/png": "[encoded data removed]",
      "text/plain": [
       "<matplotlib.figure.Figure at 0x7f2ab97ede10>"
      ]
     },
     "metadata": {},
     "output_type": "display_data"
    }
   ],
   "source": [
    "plt.hist(raw_distances_within_coverage, normed=False, bins = 100)\n",
    "plt.ylabel('Number of instances')\n",
    "plt.show()"
   ]
  },
  {
   "cell_type": "code",
   "execution_count": null,
   "metadata": {
    "collapsed": true
   },
   "outputs": [],
   "source": []
  }
 ],
 "metadata": {
  "kernelspec": {
   "display_name": "Python 2",
   "language": "python",
   "name": "python2"
  },
  "language_info": {
   "codemirror_mode": {
    "name": "ipython",
    "version": 2
   },
   "file_extension": ".py",
   "mimetype": "text/x-python",
   "name": "python",
   "nbconvert_exporter": "python",
   "pygments_lexer": "ipython2",
   "version": "2.7.6"
  }
 },
 "nbformat": 4,
 "nbformat_minor": 2
}
